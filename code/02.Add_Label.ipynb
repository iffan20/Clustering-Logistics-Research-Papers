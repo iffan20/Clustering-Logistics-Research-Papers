{
 "cells": [
  {
   "cell_type": "markdown",
   "id": "ee4f3baa-9430-4d30-87ec-2ddbf45f0654",
   "metadata": {},
   "source": [
    "<img src=\"http://imgur.com/1ZcRyrc.png\" style=\"float: left; margin: 20px; height: 100px\">\n",
    "\n",
    "# Capstone Project: Classifying Logistics Research Papers\n",
    "## Part 2 : Add Label "
   ]
  },
  {
   "cell_type": "markdown",
   "id": "86197aec-5ac0-478b-ae2d-e8445f42820f",
   "metadata": {},
   "source": [
    "---\n",
    "\n",
    " [Part 1: Get Text](01.Get_Text.ipynb) | **Part 2: Add Label** | [Part 3: EDA](03.EDA.ipynb) | [Part 4: Gridsearch Classification](04.Gridsearch_Classification.ipynb) | [Part 5: Neural Network Classification](05.NeuralNet_Classification.ipynb) | [Part 6: Model Evaluation](06.Model_Evaluation.ipynb) | [Part 7: Final Model](07.Final_Model.ipynb) \n",
    "\n",
    "---"
   ]
  },
  {
   "cell_type": "markdown",
   "id": "8c3c3bad-e9c3-4267-a052-df2c5541caf5",
   "metadata": {},
   "source": [
    "### Introducion\n"
   ]
  },
  {
   "cell_type": "markdown",
   "id": "c1e9faaa-ff7c-409d-a3d0-61294956d6fe",
   "metadata": {},
   "source": [
    "This notebook focuses on labeling the topic category from abstracts by calling the Typhoon LLM API. It feeds the abstracts of files into the API to retrieve the corresponding answers from Typhoon LLM."
   ]
  },
  {
   "cell_type": "markdown",
   "id": "f8f7d9f6-d7bf-4a87-97e2-12fd545e600d",
   "metadata": {},
   "source": [
    "### Import Library"
   ]
  },
  {
   "cell_type": "code",
   "execution_count": 1,
   "id": "5712fbf0-9087-4391-8e7c-490914fd49c8",
   "metadata": {},
   "outputs": [],
   "source": [
    "import pandas as pd\n",
    "import numpy as np\n",
    "import time\n",
    "import os\n",
    "from dotenv import load_dotenv\n",
    "from openai import OpenAI"
   ]
  },
  {
   "cell_type": "markdown",
   "id": "7f565af9-13e2-412f-9f55-68a8920d3f0d",
   "metadata": {},
   "source": [
    "### Call Typhoon API"
   ]
  },
  {
   "cell_type": "code",
   "execution_count": 75,
   "id": "42bf00a4-595b-4a92-abdd-2a79e51b754c",
   "metadata": {},
   "outputs": [
    {
     "name": "stdout",
     "output_type": "stream",
     "text": [
      "Load successful: True\n"
     ]
    }
   ],
   "source": [
    "# Check get key\n",
    "success = load_dotenv()\n",
    "print(f\"Load successful: {success}\")"
   ]
  },
  {
   "cell_type": "code",
   "execution_count": 76,
   "id": "9073f306-56ac-46d4-b098-7bc57a6285c0",
   "metadata": {},
   "outputs": [
    {
     "name": "stdout",
     "output_type": "stream",
     "text": [
      "สวัสดีค่ะ! ยินดีต้อนรับเข้าสู่การแชทของเรา หากคุณมีคำถามหรือต้องการความช่วยเหลือใดๆ กรุณาแจ้งให้เราทราบ เรายินดีที่จะช่วยคุณ.\n"
     ]
    }
   ],
   "source": [
    "# Check call API\n",
    "client = OpenAI(\n",
    "   api_key= os.getenv('API_KEY'),\n",
    "   base_url='https://api.opentyphoon.ai/v1'\n",
    ")\n",
    "\n",
    "chat_completion = client.chat.completions.create(\n",
    "    model=\"typhoon-v1.5x-70b-instruct\",\n",
    "    messages=[{\"role\": \"user\", \"content\": \"สวัสดี\"}]\n",
    ")\n",
    "print(chat_completion.choices[0].message.content)"
   ]
  },
  {
   "cell_type": "markdown",
   "id": "eb6faf80-ba2f-43d2-b5a2-1725eb096270",
   "metadata": {},
   "source": [
    "### Labeling the Topic Category"
   ]
  },
  {
   "cell_type": "code",
   "execution_count": 78,
   "id": "a6610d05-feee-4c8b-b319-bedbb967a7db",
   "metadata": {},
   "outputs": [],
   "source": [
    "# Function call Typhoon API\n",
    "def get_llm_values(text, system_message):\n",
    "    try:\n",
    "        chat_completion = client.chat.completions.create(\n",
    "            model=\"typhoon-v1.5x-70b-instruct\",\n",
    "            messages=[\n",
    "                {\"role\": \"system\", \"content\": system_message},\n",
    "                {\"role\": \"user\", \"content\": text}\n",
    "            ]\n",
    "        )\n",
    "        category = chat_completion.choices[0].message.content.strip()\n",
    "        time.sleep(8)  # Avoid rate limit (10 requests/min)\n",
    "        \n",
    "        return category\n",
    "        \n",
    "    except Exception as e:\n",
    "        print(f\"Error categorizing text: {e}\")\n",
    "        return None"
   ]
  },
  {
   "cell_type": "code",
   "execution_count": 79,
   "id": "399b4658-31ef-488b-86f9-821a8c41df3a",
   "metadata": {},
   "outputs": [],
   "source": [
    "# Define topic category message\n",
    "topic_category_message = (\n",
    "    \"Your task is to ranking these categories from given text into.\\n\"\n",
    "    \"categories = {'Procurement', 'Manufacturing/Production', 'Inventory Management', \"\n",
    "    \"'Logistics and Distribution', 'Demand Planning and Forecasting', 'Import-Export and International Trade', 'Customer Service' }\\n \"\n",
    "    \"If the text does not relate to any category on this list, answer 'Others' \\n\"\n",
    "    \"Answer with only category name\"\n",
    ")"
   ]
  },
  {
   "cell_type": "code",
   "execution_count": 479,
   "id": "456220d7-cbb5-4ccd-9dee-eb4efd6516f8",
   "metadata": {},
   "outputs": [
    {
     "data": {
      "text/html": [
       "<div>\n",
       "<style scoped>\n",
       "    .dataframe tbody tr th:only-of-type {\n",
       "        vertical-align: middle;\n",
       "    }\n",
       "\n",
       "    .dataframe tbody tr th {\n",
       "        vertical-align: top;\n",
       "    }\n",
       "\n",
       "    .dataframe thead th {\n",
       "        text-align: right;\n",
       "    }\n",
       "</style>\n",
       "<table border=\"1\" class=\"dataframe\">\n",
       "  <thead>\n",
       "    <tr style=\"text-align: right;\">\n",
       "      <th></th>\n",
       "      <th>project</th>\n",
       "      <th>abstract</th>\n",
       "      <th>content</th>\n",
       "    </tr>\n",
       "  </thead>\n",
       "  <tbody>\n",
       "    <tr>\n",
       "      <th>0</th>\n",
       "      <td>การจัดทำคู่มือขั้นตอนการดำเนินการการนำเข้าคราฟ...</td>\n",
       "      <td>ผู้วิจัยได้ตระหนักถึงความยุ่งยากของขั้นตอนการน...</td>\n",
       "      <td>การจัดทำคู่มือขั้นตอนการดำเนินการการนำเข้าคราฟ...</td>\n",
       "    </tr>\n",
       "    <tr>\n",
       "      <th>1</th>\n",
       "      <td>การเสนอแนวทางในการพัฒนาและสร้างความสัมพันธ์กับ...</td>\n",
       "      <td>งานวิจัยครั้งนี้มีวัตถุประสงค์เพื่อเสนอแนวทางใ...</td>\n",
       "      <td>การเสนอแนวทางในการพัฒนาและสร้างความสัมพันธ์กับ...</td>\n",
       "    </tr>\n",
       "    <tr>\n",
       "      <th>2</th>\n",
       "      <td>การพัฒนามาตรฐานรถขนส่งวัตถุอันตรายที่เข้ามาในค...</td>\n",
       "      <td>ดำเนินธุรกิจเป็นผู้นำเข้า และจัดจำหน่ายสินค้าก...</td>\n",
       "      <td>การพัฒนามาตรฐานรถขนส่งวัตถุอันตรายที่เข้ามาในค...</td>\n",
       "    </tr>\n",
       "    <tr>\n",
       "      <th>3</th>\n",
       "      <td>แนวทางการปรับปรุงกระบวนการการส่งเอกสารใบกำกับภ...</td>\n",
       "      <td>การวิจัยครั้งนี้มีวัตถุประสงค์ เพื่อศึกษาขั้นต...</td>\n",
       "      <td>แนวทางการปรับปรุงกระบวนการการส่งเอกสารใบกำกับภ...</td>\n",
       "    </tr>\n",
       "    <tr>\n",
       "      <th>4</th>\n",
       "      <td>การศึกษาเทคนิคการพยากรณ์ยอดขายสายไฟที่เหมาะสม</td>\n",
       "      <td>จากสถานการณ์การแพร่ระบาดของเชื้อไวรัสโคโรนา 20...</td>\n",
       "      <td>การศึกษาเทคนิคการพยากรณ์ยอดขายสายไฟที่เหมาะสม ...</td>\n",
       "    </tr>\n",
       "  </tbody>\n",
       "</table>\n",
       "</div>"
      ],
      "text/plain": [
       "                                             project  \\\n",
       "0  การจัดทำคู่มือขั้นตอนการดำเนินการการนำเข้าคราฟ...   \n",
       "1  การเสนอแนวทางในการพัฒนาและสร้างความสัมพันธ์กับ...   \n",
       "2  การพัฒนามาตรฐานรถขนส่งวัตถุอันตรายที่เข้ามาในค...   \n",
       "3  แนวทางการปรับปรุงกระบวนการการส่งเอกสารใบกำกับภ...   \n",
       "4      การศึกษาเทคนิคการพยากรณ์ยอดขายสายไฟที่เหมาะสม   \n",
       "\n",
       "                                            abstract  \\\n",
       "0  ผู้วิจัยได้ตระหนักถึงความยุ่งยากของขั้นตอนการน...   \n",
       "1  งานวิจัยครั้งนี้มีวัตถุประสงค์เพื่อเสนอแนวทางใ...   \n",
       "2  ดำเนินธุรกิจเป็นผู้นำเข้า และจัดจำหน่ายสินค้าก...   \n",
       "3  การวิจัยครั้งนี้มีวัตถุประสงค์ เพื่อศึกษาขั้นต...   \n",
       "4  จากสถานการณ์การแพร่ระบาดของเชื้อไวรัสโคโรนา 20...   \n",
       "\n",
       "                                             content  \n",
       "0  การจัดทำคู่มือขั้นตอนการดำเนินการการนำเข้าคราฟ...  \n",
       "1  การเสนอแนวทางในการพัฒนาและสร้างความสัมพันธ์กับ...  \n",
       "2  การพัฒนามาตรฐานรถขนส่งวัตถุอันตรายที่เข้ามาในค...  \n",
       "3  แนวทางการปรับปรุงกระบวนการการส่งเอกสารใบกำกับภ...  \n",
       "4  การศึกษาเทคนิคการพยากรณ์ยอดขายสายไฟที่เหมาะสม ...  "
      ]
     },
     "execution_count": 479,
     "metadata": {},
     "output_type": "execute_result"
    }
   ],
   "source": [
    "df = pd.read_csv('../data/reseacrh_text.csv')\n",
    "df.head()"
   ]
  },
  {
   "cell_type": "code",
   "execution_count": 81,
   "id": "e8f7ecb6-4c53-4bd9-935c-af370d9edab2",
   "metadata": {},
   "outputs": [
    {
     "name": "stdout",
     "output_type": "stream",
     "text": [
      "Run time for label category: 53 minutes\n"
     ]
    }
   ],
   "source": [
    "# Add Label for Topic Category\n",
    "start_time = time.time()\n",
    "\n",
    "df['category'] = df['abstract'].apply(lambda x: get_llm_values(x, topic_category_message))\n",
    "\n",
    "end_time = time.time()\n",
    "\n",
    "# Calculate elapsed time in minutes\n",
    "runtime_minutes = (end_time - start_time) / 60\n",
    "print(f\"Run time for label category: {runtime_minutes:.0f} minutes\")"
   ]
  },
  {
   "cell_type": "code",
   "execution_count": 48,
   "id": "f438925a-a10d-4f89-9253-b219208969a2",
   "metadata": {},
   "outputs": [],
   "source": [
    "# Get category id start by 0 (easy to use for model)\n",
    "category_mapping = {\n",
    "    'Procurement': 0,\n",
    "    'Manufacturing/Production': 1,\n",
    "    'Inventory Management' : 2,\n",
    "    'Logistics and Distribution': 3,\n",
    "    'Demand Planning and Forecasting': 4,\n",
    "    'Import-Export and International Trade': 5,\n",
    "    'Customer Service' : 6,\n",
    "    'Others': 7\n",
    "}\n",
    "\n",
    "# Add a new 'topic_category_id' column based on the mapping\n",
    "df['category_id'] = check['category'].map(category_mapping)"
   ]
  },
  {
   "cell_type": "code",
   "execution_count": 47,
   "id": "11ad57eb-a8b2-444c-b612-132b12c0661a",
   "metadata": {},
   "outputs": [
    {
     "data": {
      "text/plain": [
       "category\n",
       "Inventory Management                     102\n",
       "Logistics and Distribution                71\n",
       "Import-Export and International Trade     41\n",
       "Procurement                               30\n",
       "Manufacturing/Production                  30\n",
       "Others                                    28\n",
       "Demand Planning and Forecasting           23\n",
       "Customer Service                          15\n",
       "Name: count, dtype: int64"
      ]
     },
     "execution_count": 47,
     "metadata": {},
     "output_type": "execute_result"
    }
   ],
   "source": [
    "# Check Category Distribution\n",
    "df['category'].value_counts()"
   ]
  },
  {
   "cell_type": "code",
   "execution_count": 51,
   "id": "b9245d1e-38c1-4dc5-86c0-75d7dee0ad19",
   "metadata": {},
   "outputs": [],
   "source": [
    "# Save to output CSV\n",
    "df.to_csv('../data/reseacrh_label_added.csv', index=False)"
   ]
  },
  {
   "cell_type": "markdown",
   "id": "3e51753a-2ab3-4819-84e4-56575f0b22c8",
   "metadata": {},
   "source": [
    "---"
   ]
  },
  {
   "cell_type": "markdown",
   "id": "8f911e5b-7ac2-4107-9e13-23d98b28fee5",
   "metadata": {
    "jp-MarkdownHeadingCollapsed": true
   },
   "source": [
    "### Futures Improvement"
   ]
  },
  {
   "cell_type": "markdown",
   "id": "21c0c081-ae58-4e5d-9167-060a6a4674f3",
   "metadata": {},
   "source": [
    "Label Multi-Categories and Keywords to Improve Model Accuracy or Other Objectives"
   ]
  },
  {
   "cell_type": "code",
   "execution_count": 15,
   "id": "52a9c7e8-eb7c-4d3a-bc22-93aa9ec21509",
   "metadata": {},
   "outputs": [],
   "source": [
    "# # Define message to extract keywords\n",
    "# keywords_message = (\n",
    "#     \"Your task is extract keywords that contain in given abstract \\n\"\n",
    "#     \"The total number of keywords should be between 3 to 5. \\n\"\n",
    "#     \"Keywords can be in either English or Thai. \\n\"\n",
    "#     \"If the text appears inside parentheses, it should not be considered as a keyword. \\n\"\n",
    "#     \"Return the keywords as a concatenated string, separated by commas.\"\n",
    "# )\n",
    "\n",
    "# # Define message to extract multiple-category from paper\n",
    "# multi_topic_category_message = (\n",
    "#     \"Your task is to rank the correlation of the given text with the following categories\\n\"\n",
    "#     \"categories = {'Procurement', 'Manufacturing/Production', 'Inventory Management', \"\n",
    "#     \"'Logistics and Distribution', 'Demand Planning and Forecasting', 'Import-Export and International Trade', \"\n",
    "#     \" 'Customer Service', 'Others' }\\n\"\n",
    "#     \"Respond with a dictionary like {1: 'Inventory Management', 2: 'Logistics and Distribution', \\n\"\n",
    "#     \"3: 'Demand Planning', and so on for all 8 categories.\")\n",
    "\n"
   ]
  },
  {
   "cell_type": "code",
   "execution_count": 2,
   "id": "c2f365a7-f704-4424-ac30-cd0408fb2f23",
   "metadata": {},
   "outputs": [],
   "source": [
    "# # Add Ranks of Topic Category\n",
    "# start_time = time.time()\n",
    "\n",
    "# df['multi_category'] = df['abstract'].apply(lambda x: get_llm_values(x, multi_topic_category_message))\n",
    "\n",
    "# end_time = time.time()\n",
    "\n",
    "# # Calculate elapsed time in minutes\n",
    "# runtime_minutes = (end_time - start_time) / 60\n",
    "# print(f\"Run time for label mullti-category: {runtime_minutes:.0f} minutes\")\n",
    "\n",
    "# # Add keywords\n",
    "# start_time = time.time()\n",
    "\n",
    "# df['keywords'] = df['abstract'].apply(lambda x: get_llm_values(x, keywords_message))\n",
    "# end_time = time.time()\n",
    "\n",
    "# # Calculate elapsed time in minutes\n",
    "# runtime_minutes = (end_time - start_time) / 60\n",
    "# print(f\"Run time for get keywords: {runtime_minutes:.0f} minutes\")"
   ]
  }
 ],
 "metadata": {
  "kernelspec": {
   "display_name": "new",
   "language": "python",
   "name": "new"
  },
  "language_info": {
   "codemirror_mode": {
    "name": "ipython",
    "version": 3
   },
   "file_extension": ".py",
   "mimetype": "text/x-python",
   "name": "python",
   "nbconvert_exporter": "python",
   "pygments_lexer": "ipython3",
   "version": "3.11.10"
  }
 },
 "nbformat": 4,
 "nbformat_minor": 5
}
