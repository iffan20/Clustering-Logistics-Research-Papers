{
 "cells": [
  {
   "cell_type": "markdown",
   "id": "ee4f3baa-9430-4d30-87ec-2ddbf45f0654",
   "metadata": {},
   "source": [
    "<img src=\"http://imgur.com/1ZcRyrc.png\" style=\"float: left; margin: 20px; height: 55px\">\n",
    "\n",
    "## Capstone Project: Clustering Logistics Research Papers\n",
    "[Part 1: Get Abstract](01_Get_Abstrast.ipynb) | **Part 2: Add Label** | [Part 3: EDA](03_EDA.ipynb) | [Part 4: Model Tuning](..)\n",
    "\n"
   ]
  },
  {
   "cell_type": "markdown",
   "id": "8c3c3bad-e9c3-4267-a052-df2c5541caf5",
   "metadata": {},
   "source": [
    "### Introducion\n"
   ]
  },
  {
   "cell_type": "markdown",
   "id": "c1e9faaa-ff7c-409d-a3d0-61294956d6fe",
   "metadata": {},
   "source": [
    "This notebook focuses on labeling the topic category and keywords from abstracts by calling the Typhoon LLM API. It feeds the abstracts of files into the API to retrieve the corresponding answers from Typhoon LLM."
   ]
  },
  {
   "cell_type": "markdown",
   "id": "f8f7d9f6-d7bf-4a87-97e2-12fd545e600d",
   "metadata": {},
   "source": [
    "### Import Library"
   ]
  },
  {
   "cell_type": "code",
   "execution_count": 113,
   "id": "5712fbf0-9087-4391-8e7c-490914fd49c8",
   "metadata": {},
   "outputs": [],
   "source": [
    "import pandas as pd\n",
    "import numpy as np\n",
    "import time\n",
    "import os\n",
    "from dotenv import load_dotenv\n",
    "from openai import OpenAI"
   ]
  },
  {
   "cell_type": "markdown",
   "id": "7f565af9-13e2-412f-9f55-68a8920d3f0d",
   "metadata": {},
   "source": [
    "### Call Typhoon API"
   ]
  },
  {
   "cell_type": "code",
   "execution_count": 114,
   "id": "42bf00a4-595b-4a92-abdd-2a79e51b754c",
   "metadata": {},
   "outputs": [
    {
     "name": "stdout",
     "output_type": "stream",
     "text": [
      "Load successful: True\n"
     ]
    }
   ],
   "source": [
    "# Check get key\n",
    "success = load_dotenv()\n",
    "print(f\"Load successful: {success}\")"
   ]
  },
  {
   "cell_type": "code",
   "execution_count": 115,
   "id": "9073f306-56ac-46d4-b098-7bc57a6285c0",
   "metadata": {},
   "outputs": [
    {
     "name": "stdout",
     "output_type": "stream",
     "text": [
      "สวัสดีครับ! ยินดีต้อนรับเข้าสู่การแชทของเรา หากคุณมีคำถามหรือต้องการความช่วยเหลือ กรุณาแจ้งให้เราทราบ เรายินดีที่จะช่วยคุณ.\n"
     ]
    }
   ],
   "source": [
    "# Check call API\n",
    "client = OpenAI(\n",
    "   api_key= os.getenv('API_KEY'),\n",
    "   base_url='https://api.opentyphoon.ai/v1'\n",
    ")\n",
    "\n",
    "chat_completion = client.chat.completions.create(\n",
    "    model=\"typhoon-v1.5x-70b-instruct\",\n",
    "    messages=[{\"role\": \"user\", \"content\": \"สวัสดี\"}]\n",
    ")\n",
    "print(chat_completion.choices[0].message.content)"
   ]
  },
  {
   "cell_type": "code",
   "execution_count": 116,
   "id": "a4b873da-4c8d-40ab-91d0-16d6d212c410",
   "metadata": {},
   "outputs": [],
   "source": [
    "# LLama Intregetion\n",
    "# from llama_index.core.llms import ChatMessage, MessageRole\n",
    "# from llama_index.llms.openai_like import OpenAILike\n",
    "\n",
    "# llm = OpenAILike(model=\"typhoon-v1.5x-70b-instruct\",\n",
    "#                 api_base=\"https://api.opentyphoon.ai/v1\",\n",
    "#                 context_window=8192,\n",
    "#                 is_chat_model=True,\n",
    "#                 max_tokens=768,\n",
    "#                 is_function_calling_model=False,\n",
    "#                 api_key=os.getenv('API_KEY'))\n",
    "\n",
    "# response = llm.chat([ChatMessage(role=MessageRole.USER, content='สวัสดี')])\n",
    "# print(str(response))"
   ]
  },
  {
   "cell_type": "markdown",
   "id": "eb6faf80-ba2f-43d2-b5a2-1725eb096270",
   "metadata": {},
   "source": [
    "### Labeling the Topic Category and Keywords"
   ]
  },
  {
   "cell_type": "code",
   "execution_count": 117,
   "id": "a6610d05-feee-4c8b-b319-bedbb967a7db",
   "metadata": {},
   "outputs": [],
   "source": [
    "# Function call Typhoon API\n",
    "def get_llm_values(text, system_message):\n",
    "    try:\n",
    "        chat_completion = client.chat.completions.create(\n",
    "            model=\"typhoon-v1.5x-70b-instruct\",\n",
    "            messages=[\n",
    "                {\"role\": \"system\", \"content\": system_message},\n",
    "                {\"role\": \"user\", \"content\": text}\n",
    "            ]\n",
    "        )\n",
    "        category = chat_completion.choices[0].message.content.strip()\n",
    "        time.sleep(8)  # Avoid rate limit (10 requests/min)\n",
    "        \n",
    "        return category\n",
    "        \n",
    "    except Exception as e:\n",
    "        print(f\"Error categorizing text: {e}\")\n",
    "        return None"
   ]
  },
  {
   "cell_type": "code",
   "execution_count": 118,
   "id": "399b4658-31ef-488b-86f9-821a8c41df3a",
   "metadata": {},
   "outputs": [],
   "source": [
    "# Define topic category message\n",
    "topic_category_message = (\n",
    "    \"Your task is to categorize given text into these categories.\\n\"\n",
    "    \"categories = { 'การจัดซื้อจัดหา', 'การผลิต', 'การจัดการสินค้าคงคลัง', \"\n",
    "    \"'โลจิสติกส์และการกระจายสินค้า', 'การวางแผนและพยากรณ์ความต้องการ', 'การนำเข้า-ส่งออกและการค้าระหว่างประเทศ', \"\n",
    "    \"'ความยั่งยืนและจริยธรรมในซัพพลายเชน' }\\n\"\n",
    "    \"If the text does not relate to any category on this list, answer 'อื่นๆ' \\n\"\n",
    "    \"Answer with only category name\"\n",
    ")\n",
    "\n",
    "# การจัดซื้อจัดหา (Procurement)\n",
    "# การผลิต (Manufacturing)\n",
    "# การจัดการสินค้าคงคลัง (Inventory Management)\n",
    "# โลจิสติกส์และการกระจายสินค้า (Logistics and Distribution)\n",
    "# การวางแผนและพยากรณ์ความต้องการ (Demand Planning and Forecasting)\n",
    "# ความยั่งยืนและจริยธรรมในซัพพลายเชน (Sustainability and Ethics)\n",
    "# การนำเข้า-ส่งออกและการค้าระหว่างประเทศ (Import-Export and International Trade)"
   ]
  },
  {
   "cell_type": "code",
   "execution_count": 119,
   "id": "52a9c7e8-eb7c-4d3a-bc22-93aa9ec21509",
   "metadata": {},
   "outputs": [],
   "source": [
    "# Define message to extract keywords\n",
    "keywords_message = (\n",
    "    \"Your task is extract keywords that contain in given abstract \\n\"\n",
    "    \"The total number of keywords should be between 3 to 5. \\n\"\n",
    "    \"Keywords can be in either English or Thai. \\n\"\n",
    "    \"If the text appears inside parentheses, it should not be considered as a keyword. \\n\"\n",
    "    \"Return the keywords as a concatenated string, separated by commas.\"\n",
    ")"
   ]
  },
  {
   "cell_type": "code",
   "execution_count": 120,
   "id": "456220d7-cbb5-4ccd-9dee-eb4efd6516f8",
   "metadata": {},
   "outputs": [
    {
     "data": {
      "text/html": [
       "<div>\n",
       "<style scoped>\n",
       "    .dataframe tbody tr th:only-of-type {\n",
       "        vertical-align: middle;\n",
       "    }\n",
       "\n",
       "    .dataframe tbody tr th {\n",
       "        vertical-align: top;\n",
       "    }\n",
       "\n",
       "    .dataframe thead th {\n",
       "        text-align: right;\n",
       "    }\n",
       "</style>\n",
       "<table border=\"1\" class=\"dataframe\">\n",
       "  <thead>\n",
       "    <tr style=\"text-align: right;\">\n",
       "      <th></th>\n",
       "      <th>project</th>\n",
       "      <th>abstract</th>\n",
       "    </tr>\n",
       "  </thead>\n",
       "  <tbody>\n",
       "    <tr>\n",
       "      <th>0</th>\n",
       "      <td>การจัดทำคู่มือขั้นตอนการดำเนินการการนำเข้าคราฟ...</td>\n",
       "      <td>ผู้วิจัยได้ตระหนักถึงความยุ่งยากของขั้นตอนการน...</td>\n",
       "    </tr>\n",
       "    <tr>\n",
       "      <th>1</th>\n",
       "      <td>การเสนอแนวทางในการพัฒนาและสร้างความสัมพันธ์กับ...</td>\n",
       "      <td>งานวิจัยครั้งนี้มีวัตถุประสงค์เพื่อเสนอแนวทางใ...</td>\n",
       "    </tr>\n",
       "    <tr>\n",
       "      <th>2</th>\n",
       "      <td>การพัฒนามาตรฐานรถขนส่งวัตถุอันตรายที่เข้ามาในค...</td>\n",
       "      <td>ดำเนินธุรกิจเป็นผู้นำเข้า และจัดจำหน่ายสินค้าก...</td>\n",
       "    </tr>\n",
       "    <tr>\n",
       "      <th>3</th>\n",
       "      <td>แนวทางการปรับปรุงกระบวนการการส่งเอกสารใบกำกับภ...</td>\n",
       "      <td>การวิจัยครั้งนี้มีวัตถุประสงค์ เพื่อศึกษาขั้นต...</td>\n",
       "    </tr>\n",
       "    <tr>\n",
       "      <th>4</th>\n",
       "      <td>การศึกษาเทคนิคการพยากรณ์ยอดขายสายไฟที่เหมาะสม</td>\n",
       "      <td>จากสถานการณ์การแพร่ระบาดของเชื้อไวรัสโคโรนา 20...</td>\n",
       "    </tr>\n",
       "  </tbody>\n",
       "</table>\n",
       "</div>"
      ],
      "text/plain": [
       "                                             project  \\\n",
       "0  การจัดทำคู่มือขั้นตอนการดำเนินการการนำเข้าคราฟ...   \n",
       "1  การเสนอแนวทางในการพัฒนาและสร้างความสัมพันธ์กับ...   \n",
       "2  การพัฒนามาตรฐานรถขนส่งวัตถุอันตรายที่เข้ามาในค...   \n",
       "3  แนวทางการปรับปรุงกระบวนการการส่งเอกสารใบกำกับภ...   \n",
       "4      การศึกษาเทคนิคการพยากรณ์ยอดขายสายไฟที่เหมาะสม   \n",
       "\n",
       "                                            abstract  \n",
       "0  ผู้วิจัยได้ตระหนักถึงความยุ่งยากของขั้นตอนการน...  \n",
       "1  งานวิจัยครั้งนี้มีวัตถุประสงค์เพื่อเสนอแนวทางใ...  \n",
       "2  ดำเนินธุรกิจเป็นผู้นำเข้า และจัดจำหน่ายสินค้าก...  \n",
       "3  การวิจัยครั้งนี้มีวัตถุประสงค์ เพื่อศึกษาขั้นต...  \n",
       "4  จากสถานการณ์การแพร่ระบาดของเชื้อไวรัสโคโรนา 20...  "
      ]
     },
     "execution_count": 120,
     "metadata": {},
     "output_type": "execute_result"
    }
   ],
   "source": [
    "df = pd.read_csv('../data/abstract_table.csv')\n",
    "df.head()"
   ]
  },
  {
   "cell_type": "code",
   "execution_count": 122,
   "id": "e8f7ecb6-4c53-4bd9-935c-af370d9edab2",
   "metadata": {},
   "outputs": [
    {
     "name": "stdout",
     "output_type": "stream",
     "text": [
      "Run time for label category: 53 minutes\n"
     ]
    }
   ],
   "source": [
    "# Add Label for Topic Category\n",
    "start_time = time.time()\n",
    "\n",
    "df['category'] = df['abstract'].apply(lambda x: get_llm_values(x, topic_category_message))\n",
    "\n",
    "end_time = time.time()\n",
    "\n",
    "# Calculate elapsed time in minutes\n",
    "runtime_minutes = (end_time - start_time) / 60\n",
    "print(f\"Run time for label category: {runtime_minutes:.0f} minutes\")"
   ]
  },
  {
   "cell_type": "code",
   "execution_count": 133,
   "id": "9f8167ec-6a7c-493b-8b72-d5cf99046de6",
   "metadata": {},
   "outputs": [
    {
     "name": "stdout",
     "output_type": "stream",
     "text": [
      "Run time for get keywords: 54 minutes\n"
     ]
    }
   ],
   "source": [
    "# Add Label for Topic Category\n",
    "start_time = time.time()\n",
    "\n",
    "df['keywords'] = df['abstract'].apply(lambda x: get_llm_values(x, keywords_message))\n",
    "end_time = time.time()\n",
    "\n",
    "# Calculate elapsed time in minutes\n",
    "runtime_minutes = (end_time - start_time) / 60\n",
    "print(f\"Run time for get keywords: {runtime_minutes:.0f} minutes\")"
   ]
  },
  {
   "cell_type": "code",
   "execution_count": 137,
   "id": "7bc59777-7906-404c-8874-230f15512e32",
   "metadata": {},
   "outputs": [],
   "source": [
    "### Checking category in scope and add category index columns\n",
    "topic_cat_list = ['การจัดซื้อจัดหา', 'การผลิต', 'การจัดการสินค้าคงคลัง', \n",
    "                  'โลจิสติกส์และการกระจายสินค้า', 'การวางแผนและพยากรณ์ความต้องการ', \n",
    "                  'การนำเข้า-ส่งออกและการค้าระหว่างประเทศ', \n",
    "                  'ความยั่งยืนและจริยธรรมในซัพพลายเชน','อื่นๆ']"
   ]
  },
  {
   "cell_type": "code",
   "execution_count": 140,
   "id": "007da8bb-d542-49b3-924a-2ba6981f6579",
   "metadata": {
    "scrolled": true
   },
   "outputs": [
    {
     "data": {
      "text/plain": [
       "topic_category\n",
       "การจัดการสินค้าคงคลัง                     138\n",
       "โลจิสติกส์และการกระจายสินค้า               52\n",
       "การนำเข้า-ส่งออกและการค้าระหว่างประเทศ     48\n",
       "การจัดซื้อจัดหา                            47\n",
       "การผลิต                                    32\n",
       "การวางแผนและพยากรณ์ความต้องการ             20\n",
       "อื่นๆ                                       2\n",
       "ความยั่งยืนและจริยธรรมในซัพพลายเชน          1\n",
       "Name: count, dtype: int64"
      ]
     },
     "execution_count": 140,
     "metadata": {},
     "output_type": "execute_result"
    }
   ],
   "source": [
    "df['category'].value_counts()"
   ]
  },
  {
   "cell_type": "code",
   "execution_count": 141,
   "id": "f438925a-a10d-4f89-9253-b219208969a2",
   "metadata": {},
   "outputs": [],
   "source": [
    "category_mapping = {\n",
    "    'การจัดซื้อจัดหา': 1,\n",
    "    'การผลิต': 2,\n",
    "    'การจัดการสินค้าคงคลัง' : 3,\n",
    "    'โลจิสติกส์และการกระจายสินค้า': 4,\n",
    "    'การวางแผนและพยากรณ์ความต้องการ': 5,\n",
    "    'การนำเข้า-ส่งออกและการค้าระหว่างประเทศ': 6,\n",
    "    'ความยั่งยืนและจริยธรรมในซัพพลายเชน': 7,\n",
    "    'อื่นๆ': 8,\n",
    "}\n",
    "\n",
    "# Add a new 'topic_category_id' column based on the mapping\n",
    "df['category_id'] = df['category'].map(category_mapping)"
   ]
  },
  {
   "cell_type": "code",
   "execution_count": 148,
   "id": "b9245d1e-38c1-4dc5-86c0-75d7dee0ad19",
   "metadata": {},
   "outputs": [],
   "source": [
    "# Save to output CSV\n",
    "df.to_csv('../data/abstract_label_added.csv', index=False)"
   ]
  }
 ],
 "metadata": {
  "kernelspec": {
   "display_name": "new",
   "language": "python",
   "name": "new"
  },
  "language_info": {
   "codemirror_mode": {
    "name": "ipython",
    "version": 3
   },
   "file_extension": ".py",
   "mimetype": "text/x-python",
   "name": "python",
   "nbconvert_exporter": "python",
   "pygments_lexer": "ipython3",
   "version": "3.11.10"
  }
 },
 "nbformat": 4,
 "nbformat_minor": 5
}
